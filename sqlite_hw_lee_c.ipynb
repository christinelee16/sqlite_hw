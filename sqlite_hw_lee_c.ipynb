{
  "nbformat": 4,
  "nbformat_minor": 0,
  "metadata": {
    "colab": {
      "provenance": []
    },
    "kernelspec": {
      "name": "python3",
      "display_name": "Python 3"
    },
    "language_info": {
      "name": "python"
    }
  },
  "cells": [
    {
      "cell_type": "code",
      "execution_count": 63,
      "metadata": {
        "colab": {
          "base_uri": "https://localhost:8080/"
        },
        "id": "ptR8-euDKzYv",
        "outputId": "f19be7ef-b397-42d9-f6a2-4f1cbc8a0061"
      },
      "outputs": [
        {
          "output_type": "stream",
          "name": "stdout",
          "text": [
            "Database created and connected!\n"
          ]
        }
      ],
      "source": [
        "# Establishing connection to SQLite\n",
        "import sqlite3\n",
        "connection = sqlite3.connect('student_grades.db')\n",
        "print(\"Database created and connected!\")\n"
      ]
    },
    {
      "cell_type": "code",
      "source": [
        "# Creating cursor\n",
        "cursor = connection.cursor()\n",
        "print(\"Cursor created!\")"
      ],
      "metadata": {
        "colab": {
          "base_uri": "https://localhost:8080/"
        },
        "id": "hYXJcbd2L0cb",
        "outputId": "f18a727f-cb77-4e03-a71e-9dc7d2abd652"
      },
      "execution_count": 64,
      "outputs": [
        {
          "output_type": "stream",
          "name": "stdout",
          "text": [
            "Cursor created!\n"
          ]
        }
      ]
    },
    {
      "cell_type": "code",
      "source": [
        "# drop the students table\n",
        "cursor.execute('''\n",
        "DROP TABLE IF EXISTS students\n",
        "''')\n",
        "\n",
        "print(\"Students table dropped!\")\n",
        "\n",
        "# creating students table\n",
        "cursor.execute('''\n",
        "CREATE TABLE IF NOT EXISTS students (\n",
        "  student_id INTEGER PRIMARY KEY AUTOINCREMENT,\n",
        "  first_name TEXT NOT NULL,\n",
        "  last_name TEXT NOT NULL\n",
        ")\n",
        "''')\n",
        "\n",
        "print(\"Students table created!\")"
      ],
      "metadata": {
        "colab": {
          "base_uri": "https://localhost:8080/"
        },
        "id": "v-e0O0o_L994",
        "outputId": "c1a500ad-30aa-4814-ad5e-c2690e704ddb"
      },
      "execution_count": 65,
      "outputs": [
        {
          "output_type": "stream",
          "name": "stdout",
          "text": [
            "Students table dropped!\n",
            "Students table created!\n"
          ]
        }
      ]
    },
    {
      "cell_type": "code",
      "source": [
        "# creating grades table\n",
        "cursor.execute('''\n",
        "CREATE TABLE IF NOT EXISTS grades (\n",
        "  grade_id INTEGER PRIMARY KEY AUTOINCREMENT,\n",
        "  student_id INTEGER,\n",
        "  subject TEXT NOT NULL,\n",
        "  grade INTEGER,\n",
        "  FOREIGN KEY (student_id) REFERENCES student(student_id)\n",
        ")\n",
        "''')\n",
        "\n",
        "print(\"Grades table created!\")"
      ],
      "metadata": {
        "colab": {
          "base_uri": "https://localhost:8080/"
        },
        "id": "hdd_RXdJNGVw",
        "outputId": "7158171b-847e-4c3a-c5a7-4bcf76789b7e"
      },
      "execution_count": 66,
      "outputs": [
        {
          "output_type": "stream",
          "name": "stdout",
          "text": [
            "Grades table created!\n"
          ]
        }
      ]
    },
    {
      "cell_type": "code",
      "source": [
        "# Sample data\n",
        "students_data = [\n",
        "    (1, \"Alice\", \"Johnson\"),\n",
        "    (2, \"Bob\", \"Smith\"),\n",
        "    (3, \"Carol\", \"White\"),\n",
        "    (4, \"David\", \"Brown\"),\n",
        "    (5, \"Eve\", \"Davis\")\n",
        "]\n",
        "\n",
        "# Insert data into the table\n",
        "cursor.executemany('''\n",
        "INSERT INTO students (student_id, first_name, last_name) VALUES (?, ?, ?)\n",
        "''', students_data)\n",
        "\n",
        "# Commit the transaction\n",
        "connection.commit()\n",
        "\n",
        "print(\"Data inserted into the students table!\")"
      ],
      "metadata": {
        "colab": {
          "base_uri": "https://localhost:8080/"
        },
        "id": "0PnwkJy-O4_8",
        "outputId": "65b76897-abda-4d8e-d878-8e4afb046fc0"
      },
      "execution_count": 67,
      "outputs": [
        {
          "output_type": "stream",
          "name": "stdout",
          "text": [
            "Data inserted into the students table!\n"
          ]
        }
      ]
    },
    {
      "cell_type": "code",
      "source": [
        "# Sample data\n",
        "grades_data = [\n",
        "    (1, \"Math\", 95),\n",
        "    (1, \"English\", 88),\n",
        "    (1, \"History\", 90),\n",
        "    (2, \"Math\", 82),\n",
        "    (2, \"English\", 76),\n",
        "    (2, \"History\", 85),\n",
        "    (3, \"Math\", 87),\n",
        "    (3, \"English\", 92),\n",
        "    (3, \"History\", 79),\n",
        "    (4, \"Math\", 91),\n",
        "    (4, \"English\", 89),\n",
        "    (4, \"History\", 93),\n",
        "    (5, \"Math\", 84),\n",
        "    (5, \"English\", 90),\n",
        "    (5, \"History\", 86)\n",
        "]\n",
        "\n",
        "#Insert data\n",
        "cursor.executemany('''\n",
        "INSERT INTO grades (student_id, subject, grade) VALUES (?, ?, ?)\n",
        "''', grades_data)\n",
        "\n",
        "connection.commit()\n",
        "\n",
        "print(\"Data inserted into the grades table!\")"
      ],
      "metadata": {
        "colab": {
          "base_uri": "https://localhost:8080/"
        },
        "id": "LWdP6gMPSY5y",
        "outputId": "6dd7641f-180b-4376-ada8-35c7abb5b2df"
      },
      "execution_count": 70,
      "outputs": [
        {
          "output_type": "stream",
          "name": "stdout",
          "text": [
            "Data inserted into the grades table!\n"
          ]
        }
      ]
    },
    {
      "cell_type": "code",
      "source": [
        "# Query to retrieve all students' names and their grades\n",
        "cursor.execute('''\n",
        "SELECT students.first_name, students.last_name, grades.subject, grades.grade\n",
        "from students\n",
        "join grades on students.student_id = grades.student_id;\n",
        "''')\n",
        "\n",
        "results = cursor.fetchall()\n",
        "\n",
        "for row in results:\n",
        "  print(f\"Student: {row[0]} {row[1]}, Subject: {row[2]}, Grade: {row[3]}\")"
      ],
      "metadata": {
        "colab": {
          "base_uri": "https://localhost:8080/"
        },
        "id": "7b_exQYtT4wl",
        "outputId": "1cf4856a-f6fd-4cbb-fff8-6b995326ea63"
      },
      "execution_count": 71,
      "outputs": [
        {
          "output_type": "stream",
          "name": "stdout",
          "text": [
            "Student: Alice Johnson, Subject: Math, Grade: 95\n",
            "Student: Alice Johnson, Subject: English, Grade: 88\n",
            "Student: Alice Johnson, Subject: History, Grade: 90\n",
            "Student: Bob Smith, Subject: Math, Grade: 82\n",
            "Student: Bob Smith, Subject: English, Grade: 76\n",
            "Student: Bob Smith, Subject: History, Grade: 85\n",
            "Student: Carol White, Subject: Math, Grade: 87\n",
            "Student: Carol White, Subject: English, Grade: 92\n",
            "Student: Carol White, Subject: History, Grade: 79\n",
            "Student: David Brown, Subject: Math, Grade: 91\n",
            "Student: David Brown, Subject: English, Grade: 89\n",
            "Student: David Brown, Subject: History, Grade: 93\n",
            "Student: Eve Davis, Subject: Math, Grade: 84\n",
            "Student: Eve Davis, Subject: English, Grade: 90\n",
            "Student: Eve Davis, Subject: History, Grade: 86\n",
            "Student: Alice Johnson, Subject: Math, Grade: 95\n",
            "Student: Alice Johnson, Subject: English, Grade: 88\n",
            "Student: Alice Johnson, Subject: History, Grade: 90\n",
            "Student: Bob Smith, Subject: Math, Grade: 82\n",
            "Student: Bob Smith, Subject: English, Grade: 76\n",
            "Student: Bob Smith, Subject: History, Grade: 85\n",
            "Student: Carol White, Subject: Math, Grade: 87\n",
            "Student: Carol White, Subject: English, Grade: 92\n",
            "Student: Carol White, Subject: History, Grade: 79\n",
            "Student: David Brown, Subject: Math, Grade: 91\n",
            "Student: David Brown, Subject: English, Grade: 89\n",
            "Student: David Brown, Subject: History, Grade: 93\n",
            "Student: Eve Davis, Subject: Math, Grade: 84\n",
            "Student: Eve Davis, Subject: English, Grade: 90\n",
            "Student: Eve Davis, Subject: History, Grade: 86\n"
          ]
        }
      ]
    },
    {
      "cell_type": "code",
      "source": [
        "# Finding average grade for each student\n",
        "cursor.execute('''\n",
        "select students.first_name, students.last_name, AVG(grades.grade)\n",
        "from students\n",
        "join grades on students.student_id = grades.student_id\n",
        "group by students.student_id;\n",
        "''')\n",
        "\n",
        "avg_results = cursor.fetchall()\n",
        "\n",
        "for row in avg_results:\n",
        "  print(f\"Student: {row[0]} {row[1]}, Average Grade: {row[2]}\")"
      ],
      "metadata": {
        "colab": {
          "base_uri": "https://localhost:8080/"
        },
        "id": "0rf1AolvUGHw",
        "outputId": "3e4b1ac5-72bb-47a7-8e71-62fa486ac9e8"
      },
      "execution_count": 72,
      "outputs": [
        {
          "output_type": "stream",
          "name": "stdout",
          "text": [
            "Student: Alice Johnson, Average Grade: 91.0\n",
            "Student: Bob Smith, Average Grade: 81.0\n",
            "Student: Carol White, Average Grade: 86.0\n",
            "Student: David Brown, Average Grade: 91.0\n",
            "Student: Eve Davis, Average Grade: 86.66666666666667\n"
          ]
        }
      ]
    },
    {
      "cell_type": "code",
      "source": [
        "# Finding student with the highest average grade\n",
        "cursor.execute('''\n",
        "select students.first_name, students.last_name, AVG(grades.grade)\n",
        "from students\n",
        "join grades on students.student_id = grades.student_id\n",
        "group by students.student_id\n",
        "order by avg(grades.grade) DESC\n",
        "LIMIT 1;\n",
        "''')\n",
        "\n",
        "highest_avg = cursor.fetchone()\n",
        "\n",
        "print(f\"Student with the highest average grade: {highest_avg[0]} {highest_avg[1]}\")"
      ],
      "metadata": {
        "colab": {
          "base_uri": "https://localhost:8080/"
        },
        "id": "SMKgDol9iyu-",
        "outputId": "a2a185fd-f0df-40eb-e477-34b1a45369f2"
      },
      "execution_count": 73,
      "outputs": [
        {
          "output_type": "stream",
          "name": "stdout",
          "text": [
            "Student with the highest average grade: David Brown\n"
          ]
        }
      ]
    },
    {
      "cell_type": "code",
      "source": [
        "# Finding average grade for the Math subject\n",
        "cursor.execute('''\n",
        "select grades.subject, avg(grades.grade)\n",
        "from students\n",
        "join grades on students.student_id = grades.student_id\n",
        "group by grades.subject\n",
        "order by avg(grades.grade) DESC\n",
        "limit 1;\n",
        "''')\n",
        "\n",
        "math_avg = cursor.fetchone()\n",
        "\n",
        "print(f\"Average grade for the Math subject: {math_avg[0]} {math_avg[1]}\")"
      ],
      "metadata": {
        "colab": {
          "base_uri": "https://localhost:8080/"
        },
        "id": "70jgkAuwj71q",
        "outputId": "c4640817-042c-4e4b-b987-32805dd9e325"
      },
      "execution_count": 74,
      "outputs": [
        {
          "output_type": "stream",
          "name": "stdout",
          "text": [
            "Average grade for the Math subject: Math 87.8\n"
          ]
        }
      ]
    },
    {
      "cell_type": "code",
      "source": [
        "# Listing all students who scored above 90 in any subject\n",
        "cursor.execute('''\n",
        "select students.first_name, students.last_name, grades.subject, grades.grade\n",
        "from students\n",
        "join grades on students.student_id = grades.student_id\n",
        "where grades.grade >90;\n",
        "''')\n",
        "\n",
        "above_90 = cursor.fetchall()\n",
        "\n",
        "for row in above_90:\n",
        "  print(f\"Student: {row[0]} {row[1]}, Subject: {row[2]}, Grade: {row[3]}\")"
      ],
      "metadata": {
        "colab": {
          "base_uri": "https://localhost:8080/"
        },
        "id": "-NQhCI9rk2N9",
        "outputId": "6d032998-5441-493c-d580-63863da73eef"
      },
      "execution_count": 75,
      "outputs": [
        {
          "output_type": "stream",
          "name": "stdout",
          "text": [
            "Student: Alice Johnson, Subject: Math, Grade: 95\n",
            "Student: Carol White, Subject: English, Grade: 92\n",
            "Student: David Brown, Subject: Math, Grade: 91\n",
            "Student: David Brown, Subject: History, Grade: 93\n",
            "Student: Alice Johnson, Subject: Math, Grade: 95\n",
            "Student: Carol White, Subject: English, Grade: 92\n",
            "Student: David Brown, Subject: Math, Grade: 91\n",
            "Student: David Brown, Subject: History, Grade: 93\n"
          ]
        }
      ]
    },
    {
      "cell_type": "code",
      "source": [
        "# JOIN query between students and grades\n",
        "conn= sqlite3.connect('students_grades.db')\n",
        "\n",
        "join_query = cursor.execute('''\n",
        "select students.first_name, students.last_name, grades.subject, grades.grade\n",
        "from students\n",
        "join grades on students.student_id = grades.student_id;\n",
        "''')\n",
        "\n",
        "joined_data = cursor.fetchall()\n",
        "\n",
        "print(\"Joined students and grades:\")\n",
        "for row in joined_data:\n",
        "    print(row)"
      ],
      "metadata": {
        "colab": {
          "base_uri": "https://localhost:8080/"
        },
        "id": "D5JKVXVlmzyZ",
        "outputId": "de65726f-f46a-49c9-f06a-55307182cab9"
      },
      "execution_count": 76,
      "outputs": [
        {
          "output_type": "stream",
          "name": "stdout",
          "text": [
            "Joined students and grades:\n",
            "('Alice', 'Johnson', 'Math', 95)\n",
            "('Alice', 'Johnson', 'English', 88)\n",
            "('Alice', 'Johnson', 'History', 90)\n",
            "('Bob', 'Smith', 'Math', 82)\n",
            "('Bob', 'Smith', 'English', 76)\n",
            "('Bob', 'Smith', 'History', 85)\n",
            "('Carol', 'White', 'Math', 87)\n",
            "('Carol', 'White', 'English', 92)\n",
            "('Carol', 'White', 'History', 79)\n",
            "('David', 'Brown', 'Math', 91)\n",
            "('David', 'Brown', 'English', 89)\n",
            "('David', 'Brown', 'History', 93)\n",
            "('Eve', 'Davis', 'Math', 84)\n",
            "('Eve', 'Davis', 'English', 90)\n",
            "('Eve', 'Davis', 'History', 86)\n",
            "('Alice', 'Johnson', 'Math', 95)\n",
            "('Alice', 'Johnson', 'English', 88)\n",
            "('Alice', 'Johnson', 'History', 90)\n",
            "('Bob', 'Smith', 'Math', 82)\n",
            "('Bob', 'Smith', 'English', 76)\n",
            "('Bob', 'Smith', 'History', 85)\n",
            "('Carol', 'White', 'Math', 87)\n",
            "('Carol', 'White', 'English', 92)\n",
            "('Carol', 'White', 'History', 79)\n",
            "('David', 'Brown', 'Math', 91)\n",
            "('David', 'Brown', 'English', 89)\n",
            "('David', 'Brown', 'History', 93)\n",
            "('Eve', 'Davis', 'Math', 84)\n",
            "('Eve', 'Davis', 'English', 90)\n",
            "('Eve', 'Davis', 'History', 86)\n"
          ]
        }
      ]
    },
    {
      "cell_type": "code",
      "source": [
        "# using Pandas to load data from tables into DataFrames\n",
        "import pandas as pd\n",
        "\n",
        "connection = sqlite3.connect('student_grades.db')\n",
        "students_df = pd.read_sql_query('SELECT * FROM students', connection)\n",
        "grades_df = pd.read_sql_query('SELECT * FROM grades', connection)\n",
        "\n",
        "print(\"Students DataFrame:\")\n",
        "print(students_df)\n",
        "\n",
        "print(\"Grades DataFrame:\")\n",
        "print(grades_df)\n",
        "\n",
        "conn.close()"
      ],
      "metadata": {
        "id": "-TNExLeglbdb"
      },
      "execution_count": 91,
      "outputs": []
    },
    {
      "cell_type": "code",
      "source": [
        "# plot average grades for each student\n",
        "\n",
        "average_grades_df = grades_df.groupby('student_id')['grade'].mean().reset_index()\n",
        "average_grades_df.columns = ['student_id', 'average_grade']\n",
        "\n",
        "average_grades_df = pd.merge(average_grades_df, students_df, on='student_id')\n",
        "\n",
        "average_grades_df['full_name'] = average_grades_df['first_name'] + ' ' + average_grades_df['last_name']\n",
        "\n",
        "import matplotlib.pyplot as plt\n",
        "\n",
        "plt.figure(figsize = (10, 6))\n",
        "plt.scatter(average_grades_df['full_name'], average_grades_df['average_grade'])\n",
        "\n",
        "plt.xlabel('Student Name')\n",
        "plt.ylabel('Average Grade')\n",
        "plt.title('Average Grades for Each Student')\n",
        "\n",
        "plt.show()"
      ],
      "metadata": {
        "colab": {
          "base_uri": "https://localhost:8080/",
          "height": 443
        },
        "id": "FLfj8Ugts4ZU",
        "outputId": "1f368a26-7a8a-4323-8548-7a12ac960d51"
      },
      "execution_count": 92,
      "outputs": [
        {
          "output_type": "display_data",
          "data": {
            "text/plain": [
              "<Figure size 1000x600 with 1 Axes>"
            ],
            "image/png": "[encoded data removed]"
          },
          "metadata": {}
        }
      ]
    },
    {
      "cell_type": "code",
      "source": [
        "# Creating a bar chart showing the average grade for each subject\n",
        "average_grades_subject = grades_df.groupby('subject')['grade'].mean().reset_index()\n",
        "\n",
        "plt.figure(figsize = (8, 6))\n",
        "plt.bar(average_grades_subject['subject'], average_grades_subject['grade'])\n",
        "\n",
        "plt.xlabel('Subject')\n",
        "plt.ylabel('Average Grade')\n",
        "plt.title('Average Grade for Each Subject')\n",
        "\n",
        "plt.show()\n"
      ],
      "metadata": {
        "colab": {
          "base_uri": "https://localhost:8080/",
          "height": 540
        },
        "id": "5ZmlTPaavg6L",
        "outputId": "36f0734c-8ab6-4408-8aae-417ed52fac8f"
      },
      "execution_count": 93,
      "outputs": [
        {
          "output_type": "display_data",
          "data": {
            "text/plain": [
              "<Figure size 800x600 with 1 Axes>"
            ],
            "image/png": "[encoded data removed]"
          },
          "metadata": {}
        }
      ]
    }
  ]
}